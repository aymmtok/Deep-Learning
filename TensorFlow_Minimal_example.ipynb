{
 "cells": [
  {
   "cell_type": "markdown",
   "metadata": {},
   "source": [
    "# Minimal example with TensorFlow 2.0"
   ]
  },
  {
   "cell_type": "code",
   "execution_count": 1,
   "metadata": {},
   "outputs": [],
   "source": [
    "import tensorflow as tf\n",
    "import numpy as np\n",
    "import matplotlib.pyplot as plt"
   ]
  },
  {
   "cell_type": "markdown",
   "metadata": {},
   "source": [
    "## Data generation"
   ]
  },
  {
   "cell_type": "code",
   "execution_count": 3,
   "metadata": {},
   "outputs": [],
   "source": [
    "observations = 1000\n",
    "\n",
    "xs = np.random.uniform(low=-10,high=10, size=(observations,1))\n",
    "zs = np.random.uniform(-10,10,(observations,1))\n",
    "\n",
    "generated_inputs = np.column_stack((xs,zs))\n",
    "\n",
    "noise = np.random.uniform(-1,1,(observations,1))\n",
    "\n",
    "generated_targets = 2*xs - 3*zs + 5 + noise\n",
    "\n",
    "# np.savez(file name, arrays) - saves n-dimensional arrays in .npz format,\n",
    "# using a certain keyword(label) for each array\n",
    "np.savez('TF_intro', inputs = generated_inputs, targets = generated_targets)"
   ]
  },
  {
   "cell_type": "markdown",
   "metadata": {},
   "source": [
    "## Solving with TensorFlow"
   ]
  },
  {
   "cell_type": "code",
   "execution_count": 4,
   "metadata": {},
   "outputs": [],
   "source": [
    "training_data = np.load('TF_intro.npz')"
   ]
  },
  {
   "cell_type": "code",
   "execution_count": 19,
   "metadata": {},
   "outputs": [
    {
     "name": "stdout",
     "output_type": "stream",
     "text": [
      "Train on 1000 samples\n",
      "Epoch 1/100\n",
      "1000/1000 - 0s - loss: 21.4335\n",
      "Epoch 2/100\n",
      "1000/1000 - 0s - loss: 1.2494\n",
      "Epoch 3/100\n",
      "1000/1000 - 0s - loss: 0.4278\n",
      "Epoch 4/100\n",
      "1000/1000 - 0s - loss: 0.3790\n",
      "Epoch 5/100\n",
      "1000/1000 - 0s - loss: 0.3602\n",
      "Epoch 6/100\n",
      "1000/1000 - 0s - loss: 0.3512\n",
      "Epoch 7/100\n",
      "1000/1000 - 0s - loss: 0.3535\n",
      "Epoch 8/100\n",
      "1000/1000 - 0s - loss: 0.3404\n",
      "Epoch 9/100\n",
      "1000/1000 - 0s - loss: 0.3487\n",
      "Epoch 10/100\n",
      "1000/1000 - 0s - loss: 0.3481\n",
      "Epoch 11/100\n",
      "1000/1000 - 0s - loss: 0.4072\n",
      "Epoch 12/100\n",
      "1000/1000 - 0s - loss: 0.3444\n",
      "Epoch 13/100\n",
      "1000/1000 - 0s - loss: 0.3441\n",
      "Epoch 14/100\n",
      "1000/1000 - 0s - loss: 0.3637\n",
      "Epoch 15/100\n",
      "1000/1000 - 0s - loss: 0.4019\n",
      "Epoch 16/100\n",
      "1000/1000 - 0s - loss: 0.3847\n",
      "Epoch 17/100\n",
      "1000/1000 - 0s - loss: 0.3522\n",
      "Epoch 18/100\n",
      "1000/1000 - 0s - loss: 0.3877\n",
      "Epoch 19/100\n",
      "1000/1000 - 0s - loss: 0.3730\n",
      "Epoch 20/100\n",
      "1000/1000 - 0s - loss: 0.3572\n",
      "Epoch 21/100\n",
      "1000/1000 - 0s - loss: 0.4034\n",
      "Epoch 22/100\n",
      "1000/1000 - 0s - loss: 0.3592\n",
      "Epoch 23/100\n",
      "1000/1000 - 0s - loss: 0.3761\n",
      "Epoch 24/100\n",
      "1000/1000 - 0s - loss: 0.3791\n",
      "Epoch 25/100\n",
      "1000/1000 - 0s - loss: 0.3746\n",
      "Epoch 26/100\n",
      "1000/1000 - 0s - loss: 0.3430\n",
      "Epoch 27/100\n",
      "1000/1000 - 0s - loss: 0.3817\n",
      "Epoch 28/100\n",
      "1000/1000 - 0s - loss: 0.3777\n",
      "Epoch 29/100\n",
      "1000/1000 - 0s - loss: 0.3551\n",
      "Epoch 30/100\n",
      "1000/1000 - 0s - loss: 0.3537\n",
      "Epoch 31/100\n",
      "1000/1000 - 0s - loss: 0.3717\n",
      "Epoch 32/100\n",
      "1000/1000 - 0s - loss: 0.3698\n",
      "Epoch 33/100\n",
      "1000/1000 - 0s - loss: 0.3525\n",
      "Epoch 34/100\n",
      "1000/1000 - 0s - loss: 0.3566\n",
      "Epoch 35/100\n",
      "1000/1000 - 0s - loss: 0.3405\n",
      "Epoch 36/100\n",
      "1000/1000 - 0s - loss: 0.3428\n",
      "Epoch 37/100\n",
      "1000/1000 - 0s - loss: 0.3612\n",
      "Epoch 38/100\n",
      "1000/1000 - 0s - loss: 0.3564\n",
      "Epoch 39/100\n",
      "1000/1000 - 0s - loss: 0.3846\n",
      "Epoch 40/100\n",
      "1000/1000 - 0s - loss: 0.3745\n",
      "Epoch 41/100\n",
      "1000/1000 - 0s - loss: 0.3646\n",
      "Epoch 42/100\n",
      "1000/1000 - 0s - loss: 0.3529\n",
      "Epoch 43/100\n",
      "1000/1000 - 0s - loss: 0.4035\n",
      "Epoch 44/100\n",
      "1000/1000 - 0s - loss: 0.3536\n",
      "Epoch 45/100\n",
      "1000/1000 - 0s - loss: 0.3875\n",
      "Epoch 46/100\n",
      "1000/1000 - 0s - loss: 0.3551\n",
      "Epoch 47/100\n",
      "1000/1000 - 0s - loss: 0.3576\n",
      "Epoch 48/100\n",
      "1000/1000 - 0s - loss: 0.3868\n",
      "Epoch 49/100\n",
      "1000/1000 - 0s - loss: 0.3556\n",
      "Epoch 50/100\n",
      "1000/1000 - 0s - loss: 0.3631\n",
      "Epoch 51/100\n",
      "1000/1000 - 0s - loss: 0.3826\n",
      "Epoch 52/100\n",
      "1000/1000 - 0s - loss: 0.3590\n",
      "Epoch 53/100\n",
      "1000/1000 - 0s - loss: 0.3616\n",
      "Epoch 54/100\n",
      "1000/1000 - 0s - loss: 0.3417\n",
      "Epoch 55/100\n",
      "1000/1000 - 0s - loss: 0.3467\n",
      "Epoch 56/100\n",
      "1000/1000 - 0s - loss: 0.3772\n",
      "Epoch 57/100\n",
      "1000/1000 - 0s - loss: 0.3631\n",
      "Epoch 58/100\n",
      "1000/1000 - 0s - loss: 0.3701\n",
      "Epoch 59/100\n",
      "1000/1000 - 0s - loss: 0.3651\n",
      "Epoch 60/100\n",
      "1000/1000 - 0s - loss: 0.3772\n",
      "Epoch 61/100\n",
      "1000/1000 - 0s - loss: 0.3604\n",
      "Epoch 62/100\n",
      "1000/1000 - 0s - loss: 0.3534\n",
      "Epoch 63/100\n",
      "1000/1000 - 0s - loss: 0.3668\n",
      "Epoch 64/100\n",
      "1000/1000 - 0s - loss: 0.3765\n",
      "Epoch 65/100\n",
      "1000/1000 - 0s - loss: 0.3684\n",
      "Epoch 66/100\n",
      "1000/1000 - 0s - loss: 0.3504\n",
      "Epoch 67/100\n",
      "1000/1000 - 0s - loss: 0.3914\n",
      "Epoch 68/100\n",
      "1000/1000 - 0s - loss: 0.3595\n",
      "Epoch 69/100\n",
      "1000/1000 - 0s - loss: 0.3614\n",
      "Epoch 70/100\n",
      "1000/1000 - 0s - loss: 0.3473\n",
      "Epoch 71/100\n",
      "1000/1000 - 0s - loss: 0.3842\n",
      "Epoch 72/100\n",
      "1000/1000 - 0s - loss: 0.3928\n",
      "Epoch 73/100\n",
      "1000/1000 - 0s - loss: 0.3622\n",
      "Epoch 74/100\n",
      "1000/1000 - 0s - loss: 0.3646\n",
      "Epoch 75/100\n",
      "1000/1000 - 0s - loss: 0.3719\n",
      "Epoch 76/100\n",
      "1000/1000 - 0s - loss: 0.3481\n",
      "Epoch 77/100\n",
      "1000/1000 - 0s - loss: 0.3874\n",
      "Epoch 78/100\n",
      "1000/1000 - 0s - loss: 0.3998\n",
      "Epoch 79/100\n",
      "1000/1000 - 0s - loss: 0.3475\n",
      "Epoch 80/100\n",
      "1000/1000 - 0s - loss: 0.3562\n",
      "Epoch 81/100\n",
      "1000/1000 - 0s - loss: 0.3845\n",
      "Epoch 82/100\n",
      "1000/1000 - 0s - loss: 0.3433\n",
      "Epoch 83/100\n",
      "1000/1000 - 0s - loss: 0.3936\n",
      "Epoch 84/100\n",
      "1000/1000 - 0s - loss: 0.3530\n",
      "Epoch 85/100\n",
      "1000/1000 - 0s - loss: 0.3460\n",
      "Epoch 86/100\n",
      "1000/1000 - 0s - loss: 0.3617\n",
      "Epoch 87/100\n",
      "1000/1000 - 0s - loss: 0.3685\n",
      "Epoch 88/100\n",
      "1000/1000 - 0s - loss: 0.4074\n",
      "Epoch 89/100\n",
      "1000/1000 - 0s - loss: 0.3682\n",
      "Epoch 90/100\n",
      "1000/1000 - 0s - loss: 0.3812\n",
      "Epoch 91/100\n",
      "1000/1000 - 0s - loss: 0.3799\n",
      "Epoch 92/100\n",
      "1000/1000 - 0s - loss: 0.3723\n",
      "Epoch 93/100\n",
      "1000/1000 - 0s - loss: 0.3560\n",
      "Epoch 94/100\n",
      "1000/1000 - 0s - loss: 0.3468\n",
      "Epoch 95/100\n",
      "1000/1000 - 0s - loss: 0.3646\n",
      "Epoch 96/100\n",
      "1000/1000 - 0s - loss: 0.3772\n",
      "Epoch 97/100\n",
      "1000/1000 - 0s - loss: 0.3729\n",
      "Epoch 98/100\n",
      "1000/1000 - 0s - loss: 0.3754\n",
      "Epoch 99/100\n",
      "1000/1000 - 0s - loss: 0.3485\n",
      "Epoch 100/100\n",
      "1000/1000 - 0s - loss: 0.3830\n"
     ]
    },
    {
     "data": {
      "text/plain": [
       "<tensorflow.python.keras.callbacks.History at 0x64289eb90>"
      ]
     },
     "execution_count": 19,
     "metadata": {},
     "output_type": "execute_result"
    }
   ],
   "source": [
    "input_size = 2 # xs and zs\n",
    "output_size = 1 # y\n",
    "\n",
    "# tf.keras.Sequential() - function that specifies how the model will be laid down('stacks layers')\n",
    "model = tf.keras.Sequential([\n",
    "                            tf.keras.layers.Dense(output_size,\n",
    "                                                 kernel_initializer=tf.random_uniform_initializer(minval=-0.1, maxval=0.1),\n",
    "                                                 bias_initializer=tf.random_uniform_initializer(minval=-0.1, maxval=0.1)\n",
    "                                                 ) \n",
    "                            ])\n",
    "# tf.keras.Dense(output size) - takes the inputs provided to the model and calculates the \n",
    "    # dot product of the inputs and the weights and adds the bias.\n",
    "    # = In numpy, output = np.dot(inputs,weights)+bias\n",
    "# tf.keras.Dense(output size, kernel_initializer, bias_initializer) - function that is\n",
    "    # laying down the model and initialize weights\n",
    "\n",
    "\n",
    "# tf.keras.optimizers.SGD(learning_rate) - Stochastic Gradient Descent optimizers,\n",
    "    # including support for learning rate, momentum, decay, etc.\n",
    "custom_optimizer = tf.keras.optimizers.SGD(learning_rate=0.02)\n",
    "\n",
    "\n",
    "# model.compile(optimizer,loss) - configures the model for training\n",
    "model.compile(custom_optimizer, loss='mean_squared_error')\n",
    "# loss = L2-norm loss, scaled by the # of observations (mean least sum of squared error)\n",
    "\n",
    "\n",
    "# model.fit(inputs, targets) - fits(trains) the model\n",
    "model.fit(training_data['inputs'], training_data['targets'], epochs = 100, verbose=2)\n",
    "# Epoch = iteration over the full dataset\n",
    "# verbose = 0 stands for no output about the training is displayed\n",
    "# verbose = 1, 'progress bar'\n",
    "# verbose = 2, 'one line per epoch'"
   ]
  },
  {
   "cell_type": "markdown",
   "metadata": {},
   "source": [
    "loss is decreasing, so our algorithm has worked"
   ]
  },
  {
   "cell_type": "markdown",
   "metadata": {},
   "source": [
    "## Extract the weights and bias\n",
    "\n",
    "We should get 2, -3, 5"
   ]
  },
  {
   "cell_type": "code",
   "execution_count": 20,
   "metadata": {},
   "outputs": [
    {
     "data": {
      "text/plain": [
       "[array([[ 1.9822913],\n",
       "        [-2.9779372]], dtype=float32), array([4.9861403], dtype=float32)]"
      ]
     },
     "execution_count": 20,
     "metadata": {},
     "output_type": "execute_result"
    }
   ],
   "source": [
    "model.layers[0].get_weights()"
   ]
  },
  {
   "cell_type": "code",
   "execution_count": 21,
   "metadata": {},
   "outputs": [
    {
     "data": {
      "text/plain": [
       "array([[ 1.9822913],\n",
       "       [-2.9779372]], dtype=float32)"
      ]
     },
     "execution_count": 21,
     "metadata": {},
     "output_type": "execute_result"
    }
   ],
   "source": [
    "weights = model.layers[0].get_weights()[0]\n",
    "weights"
   ]
  },
  {
   "cell_type": "code",
   "execution_count": 22,
   "metadata": {},
   "outputs": [
    {
     "data": {
      "text/plain": [
       "array([4.9861403], dtype=float32)"
      ]
     },
     "execution_count": 22,
     "metadata": {},
     "output_type": "execute_result"
    }
   ],
   "source": [
    "bias = model.layers[0].get_weights()[1]\n",
    "bias"
   ]
  },
  {
   "cell_type": "markdown",
   "metadata": {},
   "source": [
    "## Extract the outputs (make predictions)"
   ]
  },
  {
   "cell_type": "code",
   "execution_count": 23,
   "metadata": {},
   "outputs": [
    {
     "data": {
      "text/plain": [
       "array([[ 13.330754  ],\n",
       "       [ 27.10336   ],\n",
       "       [  1.1227834 ],\n",
       "       [ -0.41359425],\n",
       "       [ 29.748173  ],\n",
       "       [ 28.982204  ],\n",
       "       [ 40.155872  ],\n",
       "       [  3.5817828 ],\n",
       "       [ 39.371136  ],\n",
       "       [ 11.29165   ],\n",
       "       [ 11.426193  ],\n",
       "       [-19.723343  ],\n",
       "       [-17.530514  ],\n",
       "       [ 38.38549   ],\n",
       "       [ 31.78178   ],\n",
       "       [ -4.635641  ],\n",
       "       [  2.401556  ],\n",
       "       [-43.505226  ],\n",
       "       [ -5.471549  ],\n",
       "       [ 19.045998  ]], dtype=float32)"
      ]
     },
     "execution_count": 23,
     "metadata": {},
     "output_type": "execute_result"
    }
   ],
   "source": [
    "# model.predict_on_batch(data) - calculates the outputs given inputs\n",
    "model.predict_on_batch(training_data['inputs']).numpy()[:20,:] # first 20 rows"
   ]
  },
  {
   "cell_type": "markdown",
   "metadata": {},
   "source": [
    "#### There are the values that were compared to the targets to evaluate the loss function"
   ]
  },
  {
   "cell_type": "code",
   "execution_count": 24,
   "metadata": {},
   "outputs": [
    {
     "data": {
      "text/plain": [
       "array([[ 13.6],\n",
       "       [ 28.2],\n",
       "       [  2. ],\n",
       "       [  0.2],\n",
       "       [ 29.8],\n",
       "       [ 29.3],\n",
       "       [ 41. ],\n",
       "       [  3.1],\n",
       "       [ 40.5],\n",
       "       [ 11.5],\n",
       "       [ 12.2],\n",
       "       [-19.1],\n",
       "       [-17.6],\n",
       "       [ 39.4],\n",
       "       [ 31.6],\n",
       "       [ -3.8],\n",
       "       [  2.1],\n",
       "       [-44.4],\n",
       "       [ -6.3],\n",
       "       [ 18.5]])"
      ]
     },
     "execution_count": 24,
     "metadata": {},
     "output_type": "execute_result"
    }
   ],
   "source": [
    "training_data['targets'].round(1)[:20,:]"
   ]
  },
  {
   "cell_type": "markdown",
   "metadata": {},
   "source": [
    "### Compare the two arrays\n",
    "They are close to each other"
   ]
  },
  {
   "cell_type": "markdown",
   "metadata": {},
   "source": [
    "## Plotting the data"
   ]
  },
  {
   "cell_type": "markdown",
   "metadata": {},
   "source": [
    "The line should be as close to 45 degrees as possible"
   ]
  },
  {
   "cell_type": "code",
   "execution_count": 25,
   "metadata": {},
   "outputs": [
    {
     "data": {
      "image/png": "[encoded data removed]",
      "text/plain": [
       "<Figure size 432x288 with 1 Axes>"
      ]
     },
     "metadata": {
      "needs_background": "light"
     },
     "output_type": "display_data"
    }
   ],
   "source": [
    "plt.plot(np.squeeze(model.predict_on_batch(training_data['inputs'])),\n",
    "        np.squeeze(training_data['targets']))\n",
    "plt.xlabel('outputs')\n",
    "plt.ylabel('targets')\n",
    "plt.show()"
   ]
  }
 ],
 "metadata": {
  "kernelspec": {
   "display_name": "Python [conda env:py3-TF2.0] *",
   "language": "python",
   "name": "conda-env-py3-TF2.0-py"
  },
  "language_info": {
   "codemirror_mode": {
    "name": "ipython",
    "version": 3
   },
   "file_extension": ".py",
   "mimetype": "text/x-python",
   "name": "python",
   "nbconvert_exporter": "python",
   "pygments_lexer": "ipython3",
   "version": "3.7.6"
  }
 },
 "nbformat": 4,
 "nbformat_minor": 2
}
